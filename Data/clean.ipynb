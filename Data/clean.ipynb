{
 "cells": [
  {
   "cell_type": "code",
   "execution_count": 10,
   "id": "bd25e1eb",
   "metadata": {},
   "outputs": [],
   "source": [
    "import json\n",
    "import pandas as pd\n",
    "from glob import glob\n",
    "from datetime import datetime"
   ]
  },
  {
   "cell_type": "code",
   "execution_count": 11,
   "id": "413c380c",
   "metadata": {},
   "outputs": [],
   "source": [
    "def clean_csv(filename):\n",
    "    df = pd.read_csv(filename)\n",
    "    df = df.iloc[:,:-1]\n",
    "\n",
    "    room_no = filename.split('/')[-1].split('-')[0]\n",
    "    area = float(df.iloc[1,1])\n",
    "    doors_area = float(df.iloc[2, 1])\n",
    "    panels_area = float(df.iloc[3, 1])\n",
    "    labels = df.iloc[4].tolist()\n",
    "\n",
    "    for i in range(len(labels)):\n",
    "        label = labels[i]\n",
    "        label = label.lower()\n",
    "        label = '_'.join(label.split())\n",
    "        labels[i] = label\n",
    "    \n",
    "    df = df.drop(range(5))\n",
    "    df.columns = labels\n",
    "\n",
    "    hours = []\n",
    "    days = []\n",
    "    months = []\n",
    "\n",
    "    for i in range(len(df)):\n",
    "        dt = datetime.strptime(df.iloc[i][\"timestamp\"], \"%m/%d/%y %H:%M\")\n",
    "        hours.append(dt.hour)\n",
    "        days.append(dt.day)\n",
    "        months.append(dt.month)\n",
    "\n",
    "    df.insert(1, \"room_id\", [room_no for _ in range(len(df))])\n",
    "    df.insert(2, \"area\", [area for _ in range(len(df))])\n",
    "    df.insert(3, \"doors_area\", [doors_area for _ in range(len(df))])\n",
    "    df.insert(4, 'panels_area', [panels_area for _ in range(len(df))])\n",
    "    df.insert(5, 'hours', hours)\n",
    "    df.insert(6, 'days', days)\n",
    "    df.insert(7, 'months', months)\n",
    "\n",
    "    na_columns = df.columns[df.isna().any()].tolist()\n",
    "\n",
    "    df = df.dropna(axis=\"columns\")\n",
    "    df.to_csv(filename, index=False)\n",
    "    \n",
    "    return na_columns"
   ]
  },
  {
   "cell_type": "code",
   "execution_count": 12,
   "id": "df29fd07",
   "metadata": {},
   "outputs": [],
   "source": [
    "filenames = glob(\"./DTFL - Data/*.csv\")\n",
    "na_hashmap = {}\n",
    "\n",
    "for filename in filenames:\n",
    "    na_columns = clean_csv(filename)\n",
    "    na_hashmap[filename] = na_columns\n",
    "\n",
    "with open('data_info.json', 'w') as fp:\n",
    "    json.dump(na_hashmap, fp)"
   ]
  },
  {
   "cell_type": "code",
   "execution_count": 13,
   "id": "940c9866",
   "metadata": {},
   "outputs": [],
   "source": [
    "co2_count = 0\n",
    "hum_count = 0\n",
    "complete = 0\n",
    "\n",
    "for nas in na_hashmap.values():\n",
    "    if len(nas) == 1:\n",
    "        co2_count += 1\n",
    "    elif len(nas) == 2:\n",
    "        co2_count += 1\n",
    "        hum_count += 1\n",
    "    else:\n",
    "        complete += 1"
   ]
  },
  {
   "cell_type": "code",
   "execution_count": 14,
   "id": "4dd87fca",
   "metadata": {},
   "outputs": [
    {
     "data": {
      "text/plain": [
       "(56, 8, 10)"
      ]
     },
     "execution_count": 14,
     "metadata": {},
     "output_type": "execute_result"
    }
   ],
   "source": [
    "co2_count, hum_count, complete"
   ]
  }
 ],
 "metadata": {
  "kernelspec": {
   "display_name": "flask",
   "language": "python",
   "name": "python3"
  },
  "language_info": {
   "codemirror_mode": {
    "name": "ipython",
    "version": 3
   },
   "file_extension": ".py",
   "mimetype": "text/x-python",
   "name": "python",
   "nbconvert_exporter": "python",
   "pygments_lexer": "ipython3",
   "version": "3.12.4"
  }
 },
 "nbformat": 4,
 "nbformat_minor": 5
}
